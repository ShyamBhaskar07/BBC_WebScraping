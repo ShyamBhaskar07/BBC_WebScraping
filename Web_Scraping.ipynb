{
 "cells": [
  {
   "cell_type": "code",
   "execution_count": 3,
   "id": "bb4d32b7",
   "metadata": {},
   "outputs": [],
   "source": [
    "import requests\n",
    "from bs4 import BeautifulSoup\n",
    "import csv\n",
    "from datetime import datetime, timedelta\n",
    "from urllib.parse import urljoin, urlparse\n",
    "import pandas as pd"
   ]
  },
  {
   "cell_type": "code",
   "execution_count": 2,
   "id": "c81db2e7",
   "metadata": {},
   "outputs": [],
   "source": [
    "base_url = \"https://www.bbc.com/\""
   ]
  },
  {
   "cell_type": "code",
   "execution_count": 3,
   "id": "e5723da4",
   "metadata": {},
   "outputs": [],
   "source": [
    "def get_unique_anchor_hrefs(base_url):\n",
    "    # Send a request to the base URL\n",
    "    response = requests.get(base_url)\n",
    "\n",
    "    # Check if the request was successful\n",
    "    if response.status_code != 200:\n",
    "        print(f\"Failed to retrieve content: {response.status_code}\")\n",
    "        return []\n",
    "\n",
    "    # Parse the HTML content\n",
    "    soup = BeautifulSoup(response.text, 'html.parser')\n",
    "\n",
    "    # Find all anchor tags with the specified structure\n",
    "    anchor_tags = soup.find_all('a', {'data-testid': 'internal-link'})\n",
    "\n",
    "    unique_hrefs = set()  # Use a set to store unique links\n",
    "\n",
    "    for anchor in anchor_tags:\n",
    "        if 'href' in anchor.attrs:\n",
    "            href = anchor['href']\n",
    "            \n",
    "            # Handle full URLs and relative URLs\n",
    "            full_url = urljoin(base_url, href)  # Join base_url with relative hrefs\n",
    "\n",
    "            # Parse the full URL and normalize it\n",
    "            parsed_url = urlparse(full_url)\n",
    "            normalized_url = parsed_url._replace(path=parsed_url.path.replace('//', '/')).geturl()\n",
    "\n",
    "            unique_hrefs.add(normalized_url)  # Add to set to avoid duplicates\n",
    "\n",
    "    return unique_hrefs"
   ]
  },
  {
   "cell_type": "code",
   "execution_count": 4,
   "id": "ac54d74c",
   "metadata": {},
   "outputs": [],
   "source": [
    "def save_urls_to_file(links, filename):\n",
    "    # Write the unique links to a file\n",
    "    with open(filename, 'w') as file:\n",
    "        for link in links:\n",
    "            file.write(f\"{link}\\n\")\n",
    "    print(f\"Saved {len(links)} unique urls to {filename}\")"
   ]
  },
  {
   "cell_type": "code",
   "execution_count": 5,
   "id": "1b6098c5",
   "metadata": {},
   "outputs": [
    {
     "name": "stdout",
     "output_type": "stream",
     "text": [
      "Saved 82 unique urls to urls.txt\n"
     ]
    }
   ],
   "source": [
    "unique_hrefs = get_unique_anchor_hrefs(base_url)\n",
    "\n",
    "# Save unique links to a file\n",
    "save_urls_to_file(unique_hrefs, 'urls.txt')"
   ]
  },
  {
   "cell_type": "code",
   "execution_count": 1,
   "id": "69578035",
   "metadata": {},
   "outputs": [],
   "source": [
    "def scrape(unique_links_file):\n",
    "    # Initialize lists to store the scraped data\n",
    "    headlines = []\n",
    "    descriptions = []\n",
    "    subcategories = []\n",
    "    categories = []\n",
    "    publication_dates = []\n",
    "\n",
    "    # Get current time for reference\n",
    "    current_time = datetime.now()\n",
    "\n",
    "    # Read the unique links from the file\n",
    "    with open(unique_links_file, 'r') as file:\n",
    "        links = file.readlines()\n",
    "    \n",
    "    # Loop through each link to scrape data\n",
    "    for link in links:\n",
    "        url = link.strip()  # Clean up the URL\n",
    "        \n",
    "        # Send a GET request to the webpage\n",
    "        try:\n",
    "            response = requests.get(url)\n",
    "            \n",
    "            # Check if the request was successful\n",
    "            if response.status_code != 200:\n",
    "                print(f\"Failed to retrieve content from {url}: {response.status_code}\")\n",
    "                continue\n",
    "\n",
    "            # Parse the HTML content using BeautifulSoup\n",
    "            soup = BeautifulSoup(response.text, \"html.parser\")\n",
    "\n",
    "            # Find the first <h1> tag as the category for each unique URL page\n",
    "            category_tag = soup.find('h1', {'data-testid': 'nested-navigation-page-title'})\n",
    "            category = category_tag.text.strip() if category_tag else 'NA'\n",
    "\n",
    "            # Find the main container holding all articles\n",
    "            articles = soup.find_all('div', {'data-testid': 'card-text-wrapper'})\n",
    "\n",
    "            # Loop through each article to extract the relevant data\n",
    "            for article in articles:\n",
    "                # Extract headline\n",
    "                headline_tag = article.find('h2', {'data-testid': 'card-headline'})\n",
    "                headline = headline_tag.text.strip() if headline_tag else 'NA'\n",
    "                headlines.append(headline)\n",
    "\n",
    "                # Extract description\n",
    "                description_tag = article.find('p', {'data-testid': 'card-description'})\n",
    "                description = description_tag.text.strip() if description_tag else 'NA'\n",
    "                descriptions.append(description)\n",
    "\n",
    "                # Extract subcategory\n",
    "                subcategory_tag = article.find('span', {'data-testid': 'card-metadata-tag'})\n",
    "                subcategory = subcategory_tag.text.strip() if subcategory_tag else 'NA'\n",
    "                subcategories.append(subcategory)\n",
    "\n",
    "                # Extract publication date\n",
    "                date_tag = article.find('span', {'data-testid': 'card-metadata-lastupdated'})\n",
    "                relative_time = date_tag.text.strip() if date_tag else 'NA'\n",
    "                \n",
    "                # Convert relative time to timestamp\n",
    "                if relative_time != 'NA':\n",
    "                    try:\n",
    "                        # Split the relative time string\n",
    "                        time_parts = relative_time.split()\n",
    "                        if len(time_parts) == 3:\n",
    "                            num = int(time_parts[0])  # the number of hours/days\n",
    "                            unit = time_parts[1]  # the unit (hrs/days)\n",
    "                            if 'hr' in unit:\n",
    "                                publication_time = current_time - timedelta(hours=num)\n",
    "                            elif 'day' in unit:\n",
    "                                publication_time = current_time - timedelta(days=num)\n",
    "                            else:\n",
    "                                publication_time = current_time  # fallback\n",
    "                            publication_date = publication_time.strftime(\"%Y-%m-%d %H:%M:%S\")\n",
    "                        else:\n",
    "                            publication_date = 'NA'  # in case the format is unexpected\n",
    "                    except ValueError:\n",
    "                        publication_date = 'NA'  # in case of conversion issues\n",
    "                else:\n",
    "                    publication_date = 'NA'\n",
    "                \n",
    "                publication_dates.append(publication_date)\n",
    "\n",
    "                # Append the category extracted from the page to the corresponding article\n",
    "                categories.append(category)\n",
    "\n",
    "        except requests.exceptions.RequestException as e:\n",
    "            print(f\"Error fetching {url}: {e}\")\n",
    "            continue\n",
    "\n",
    "    # Create a DataFrame using the scraped data\n",
    "    data = {\n",
    "        \"Headline\": headlines,\n",
    "        \"Context\": descriptions,\n",
    "        \"Category\": categories,\n",
    "        \"Subcategory\": subcategories,\n",
    "        \"Publication Date\": publication_dates\n",
    "    }\n",
    "\n",
    "    df = pd.DataFrame(data)\n",
    "\n",
    "    # Save the DataFrame to a CSV file\n",
    "    df.to_csv(\"data.csv\", index=False)\n",
    "\n",
    "    print(\"Data successfully scraped and saved to data.csv\")"
   ]
  },
  {
   "cell_type": "code",
   "execution_count": 7,
   "id": "51e1872e",
   "metadata": {},
   "outputs": [
    {
     "name": "stdout",
     "output_type": "stream",
     "text": [
      "Data successfully scraped and saved to ata.csv\n"
     ]
    }
   ],
   "source": [
    "unique_links_file = \"urls.txt\"\n",
    "scrape(unique_links_file)"
   ]
  },
  {
   "cell_type": "markdown",
   "id": "985682e3",
   "metadata": {},
   "source": [
    "### Data Analysis"
   ]
  },
  {
   "cell_type": "code",
   "execution_count": 62,
   "id": "765e3df7",
   "metadata": {},
   "outputs": [],
   "source": [
    "import matplotlib.pyplot as plt\n",
    "import seaborn as sns"
   ]
  },
  {
   "cell_type": "code",
   "execution_count": 63,
   "id": "45fc63ad",
   "metadata": {},
   "outputs": [
    {
     "data": {
      "text/html": [
       "<div>\n",
       "<style scoped>\n",
       "    .dataframe tbody tr th:only-of-type {\n",
       "        vertical-align: middle;\n",
       "    }\n",
       "\n",
       "    .dataframe tbody tr th {\n",
       "        vertical-align: top;\n",
       "    }\n",
       "\n",
       "    .dataframe thead th {\n",
       "        text-align: right;\n",
       "    }\n",
       "</style>\n",
       "<table border=\"1\" class=\"dataframe\">\n",
       "  <thead>\n",
       "    <tr style=\"text-align: right;\">\n",
       "      <th></th>\n",
       "      <th>Headline</th>\n",
       "      <th>Context</th>\n",
       "      <th>Category</th>\n",
       "      <th>Subcategory</th>\n",
       "      <th>Publication Date</th>\n",
       "    </tr>\n",
       "  </thead>\n",
       "  <tbody>\n",
       "    <tr>\n",
       "      <th>0</th>\n",
       "      <td>Global trade up despite growing conflicts — 10...</td>\n",
       "      <td>The World Trade Organisation's chief economist...</td>\n",
       "      <td>NaN</td>\n",
       "      <td>Opening Bell</td>\n",
       "      <td>2024-10-10 22:11:09</td>\n",
       "    </tr>\n",
       "    <tr>\n",
       "      <th>1</th>\n",
       "      <td>The threat of solar storms explained</td>\n",
       "      <td>The US has issued a solar storm watch. So what...</td>\n",
       "      <td>NaN</td>\n",
       "      <td>Science &amp; Health</td>\n",
       "      <td>2024-10-10 15:11:09</td>\n",
       "    </tr>\n",
       "    <tr>\n",
       "      <th>2</th>\n",
       "      <td>How to reset your brain with your breath</td>\n",
       "      <td>With each inhalation and exhalation we have th...</td>\n",
       "      <td>NaN</td>\n",
       "      <td>Health Decoded</td>\n",
       "      <td>2024-10-10 09:11:09</td>\n",
       "    </tr>\n",
       "    <tr>\n",
       "      <th>3</th>\n",
       "      <td>Renewable energy is growing due to low prices ...</td>\n",
       "      <td>IEA head says world is adding as much renewabl...</td>\n",
       "      <td>NaN</td>\n",
       "      <td>Opening Bell</td>\n",
       "      <td>2024-10-09 22:11:09</td>\n",
       "    </tr>\n",
       "    <tr>\n",
       "      <th>4</th>\n",
       "      <td>Uber boss: Chinese EVs good for environment - ...</td>\n",
       "      <td>Uber CEO Dara Khosrowshahi says electric cars ...</td>\n",
       "      <td>NaN</td>\n",
       "      <td>Opening Bell</td>\n",
       "      <td>2024-10-08 22:11:09</td>\n",
       "    </tr>\n",
       "  </tbody>\n",
       "</table>\n",
       "</div>"
      ],
      "text/plain": [
       "                                            Headline  \\\n",
       "0  Global trade up despite growing conflicts — 10...   \n",
       "1               The threat of solar storms explained   \n",
       "2           How to reset your brain with your breath   \n",
       "3  Renewable energy is growing due to low prices ...   \n",
       "4  Uber boss: Chinese EVs good for environment - ...   \n",
       "\n",
       "                                             Context Category  \\\n",
       "0  The World Trade Organisation's chief economist...      NaN   \n",
       "1  The US has issued a solar storm watch. So what...      NaN   \n",
       "2  With each inhalation and exhalation we have th...      NaN   \n",
       "3  IEA head says world is adding as much renewabl...      NaN   \n",
       "4  Uber CEO Dara Khosrowshahi says electric cars ...      NaN   \n",
       "\n",
       "        Subcategory     Publication Date  \n",
       "0      Opening Bell  2024-10-10 22:11:09  \n",
       "1  Science & Health  2024-10-10 15:11:09  \n",
       "2    Health Decoded  2024-10-10 09:11:09  \n",
       "3      Opening Bell  2024-10-09 22:11:09  \n",
       "4      Opening Bell  2024-10-08 22:11:09  "
      ]
     },
     "execution_count": 63,
     "metadata": {},
     "output_type": "execute_result"
    }
   ],
   "source": [
    "df = pd.read_csv(\"data.csv\")\n",
    "df.head()"
   ]
  },
  {
   "cell_type": "code",
   "execution_count": 64,
   "id": "83ce5528",
   "metadata": {},
   "outputs": [
    {
     "data": {
      "text/plain": [
       "<bound method NDFrame.describe of                                                Headline  \\\n",
       "0     Global trade up despite growing conflicts — 10...   \n",
       "1                  The threat of solar storms explained   \n",
       "2              How to reset your brain with your breath   \n",
       "3     Renewable energy is growing due to low prices ...   \n",
       "4     Uber boss: Chinese EVs good for environment - ...   \n",
       "...                                                 ...   \n",
       "1579  Colin Farrell describes how he transformed int...   \n",
       "1580  Vienna Philharmonic: See the magic of the grea...   \n",
       "1581          Reviving Madeira's stunning walking paths   \n",
       "1582  Earth tides: Why our planet's crust has tides too   \n",
       "1583             Is this the future of electric racing?   \n",
       "\n",
       "                                                Context Category  \\\n",
       "0     The World Trade Organisation's chief economist...      NaN   \n",
       "1     The US has issued a solar storm watch. So what...      NaN   \n",
       "2     With each inhalation and exhalation we have th...      NaN   \n",
       "3     IEA head says world is adding as much renewabl...      NaN   \n",
       "4     Uber CEO Dara Khosrowshahi says electric cars ...      NaN   \n",
       "...                                                 ...      ...   \n",
       "1579  The actor tells Graham Norton how he became th...      NaN   \n",
       "1580  The Vienna Philharmonic has captivated audienc...      NaN   \n",
       "1581  How tourism is pushing locals to walk that del...      NaN   \n",
       "1582  How do they differ from the ocean? A geophysic...      NaN   \n",
       "1583  Formula Student is a world series of events fe...      NaN   \n",
       "\n",
       "            Subcategory     Publication Date  \n",
       "0          Opening Bell  2024-10-10 22:11:09  \n",
       "1      Science & Health  2024-10-10 15:11:09  \n",
       "2        Health Decoded  2024-10-10 09:11:09  \n",
       "3          Opening Bell  2024-10-09 22:11:09  \n",
       "4          Opening Bell  2024-10-08 22:11:09  \n",
       "...                 ...                  ...  \n",
       "1579          Film & TV  2024-10-10 22:11:09  \n",
       "1580     Arts in Motion  2024-10-10 22:11:09  \n",
       "1581         Adventures  2024-10-10 22:11:09  \n",
       "1582  Weather & science  2024-10-10 22:11:09  \n",
       "1583         Innovation  2024-10-10 22:11:09  \n",
       "\n",
       "[1584 rows x 5 columns]>"
      ]
     },
     "execution_count": 64,
     "metadata": {},
     "output_type": "execute_result"
    }
   ],
   "source": [
    "df.describe"
   ]
  },
  {
   "cell_type": "code",
   "execution_count": 65,
   "id": "9bc58bb4",
   "metadata": {},
   "outputs": [
    {
     "data": {
      "text/plain": [
       "(1584, 5)"
      ]
     },
     "execution_count": 65,
     "metadata": {},
     "output_type": "execute_result"
    }
   ],
   "source": [
    "df.shape"
   ]
  },
  {
   "cell_type": "code",
   "execution_count": 66,
   "id": "3972581f",
   "metadata": {},
   "outputs": [],
   "source": [
    "df.drop_duplicates(inplace=True)"
   ]
  },
  {
   "cell_type": "code",
   "execution_count": 67,
   "id": "a1e752e8",
   "metadata": {},
   "outputs": [
    {
     "data": {
      "text/plain": [
       "(1047, 5)"
      ]
     },
     "execution_count": 67,
     "metadata": {},
     "output_type": "execute_result"
    }
   ],
   "source": [
    "df.shape"
   ]
  },
  {
   "cell_type": "code",
   "execution_count": 68,
   "id": "66c181ab",
   "metadata": {},
   "outputs": [
    {
     "data": {
      "text/plain": [
       "Headline            object\n",
       "Context             object\n",
       "Category            object\n",
       "Subcategory         object\n",
       "Publication Date    object\n",
       "dtype: object"
      ]
     },
     "execution_count": 68,
     "metadata": {},
     "output_type": "execute_result"
    }
   ],
   "source": [
    "df.dtypes"
   ]
  },
  {
   "cell_type": "code",
   "execution_count": 69,
   "id": "2ebf408b",
   "metadata": {},
   "outputs": [],
   "source": [
    "df['Publication Date'] = pd.to_datetime(df['Publication Date'])"
   ]
  },
  {
   "cell_type": "code",
   "execution_count": 70,
   "id": "9c00db44",
   "metadata": {},
   "outputs": [
    {
     "data": {
      "text/plain": [
       "Headline                    object\n",
       "Context                     object\n",
       "Category                    object\n",
       "Subcategory                 object\n",
       "Publication Date    datetime64[ns]\n",
       "dtype: object"
      ]
     },
     "execution_count": 70,
     "metadata": {},
     "output_type": "execute_result"
    }
   ],
   "source": [
    "df.dtypes"
   ]
  },
  {
   "cell_type": "code",
   "execution_count": 71,
   "id": "d798ed79",
   "metadata": {},
   "outputs": [
    {
     "data": {
      "text/plain": [
       "Headline              0\n",
       "Context             185\n",
       "Category            588\n",
       "Subcategory          74\n",
       "Publication Date     35\n",
       "dtype: int64"
      ]
     },
     "execution_count": 71,
     "metadata": {},
     "output_type": "execute_result"
    }
   ],
   "source": [
    "df.isna().sum()"
   ]
  },
  {
   "cell_type": "code",
   "execution_count": 72,
   "id": "52b878ab",
   "metadata": {},
   "outputs": [],
   "source": [
    "df.drop(columns=['Category'], inplace=True)"
   ]
  },
  {
   "cell_type": "code",
   "execution_count": 73,
   "id": "11a9b22b",
   "metadata": {},
   "outputs": [],
   "source": [
    "df['Headline'].fillna('Not Available', inplace=True)\n",
    "df['Context'].fillna('Not Available', inplace=True)\n",
    "df['Subcategory'].fillna('Unknown', inplace=True)\n",
    "df['Publication Date'].fillna(pd.Timestamp('2024-01-01'), inplace=True)"
   ]
  },
  {
   "cell_type": "code",
   "execution_count": 74,
   "id": "5fba014f",
   "metadata": {},
   "outputs": [
    {
     "data": {
      "text/plain": [
       "Headline            0\n",
       "Context             0\n",
       "Subcategory         0\n",
       "Publication Date    0\n",
       "dtype: int64"
      ]
     },
     "execution_count": 74,
     "metadata": {},
     "output_type": "execute_result"
    }
   ],
   "source": [
    "df.isna().sum()"
   ]
  },
  {
   "cell_type": "code",
   "execution_count": 75,
   "id": "462b6438",
   "metadata": {},
   "outputs": [
    {
     "data": {
      "text/html": [
       "<div>\n",
       "<style scoped>\n",
       "    .dataframe tbody tr th:only-of-type {\n",
       "        vertical-align: middle;\n",
       "    }\n",
       "\n",
       "    .dataframe tbody tr th {\n",
       "        vertical-align: top;\n",
       "    }\n",
       "\n",
       "    .dataframe thead th {\n",
       "        text-align: right;\n",
       "    }\n",
       "</style>\n",
       "<table border=\"1\" class=\"dataframe\">\n",
       "  <thead>\n",
       "    <tr style=\"text-align: right;\">\n",
       "      <th></th>\n",
       "      <th>Headline</th>\n",
       "      <th>Context</th>\n",
       "      <th>Subcategory</th>\n",
       "      <th>Publication Date</th>\n",
       "    </tr>\n",
       "  </thead>\n",
       "  <tbody>\n",
       "    <tr>\n",
       "      <th>0</th>\n",
       "      <td>Global trade up despite growing conflicts — 10...</td>\n",
       "      <td>The World Trade Organisation's chief economist...</td>\n",
       "      <td>Opening Bell</td>\n",
       "      <td>2024-10-10 22:11:09</td>\n",
       "    </tr>\n",
       "    <tr>\n",
       "      <th>1</th>\n",
       "      <td>The threat of solar storms explained</td>\n",
       "      <td>The US has issued a solar storm watch. So what...</td>\n",
       "      <td>Science &amp; Health</td>\n",
       "      <td>2024-10-10 15:11:09</td>\n",
       "    </tr>\n",
       "    <tr>\n",
       "      <th>2</th>\n",
       "      <td>How to reset your brain with your breath</td>\n",
       "      <td>With each inhalation and exhalation we have th...</td>\n",
       "      <td>Health Decoded</td>\n",
       "      <td>2024-10-10 09:11:09</td>\n",
       "    </tr>\n",
       "    <tr>\n",
       "      <th>3</th>\n",
       "      <td>Renewable energy is growing due to low prices ...</td>\n",
       "      <td>IEA head says world is adding as much renewabl...</td>\n",
       "      <td>Opening Bell</td>\n",
       "      <td>2024-10-09 22:11:09</td>\n",
       "    </tr>\n",
       "    <tr>\n",
       "      <th>4</th>\n",
       "      <td>Uber boss: Chinese EVs good for environment - ...</td>\n",
       "      <td>Uber CEO Dara Khosrowshahi says electric cars ...</td>\n",
       "      <td>Opening Bell</td>\n",
       "      <td>2024-10-08 22:11:09</td>\n",
       "    </tr>\n",
       "  </tbody>\n",
       "</table>\n",
       "</div>"
      ],
      "text/plain": [
       "                                            Headline  \\\n",
       "0  Global trade up despite growing conflicts — 10...   \n",
       "1               The threat of solar storms explained   \n",
       "2           How to reset your brain with your breath   \n",
       "3  Renewable energy is growing due to low prices ...   \n",
       "4  Uber boss: Chinese EVs good for environment - ...   \n",
       "\n",
       "                                             Context       Subcategory  \\\n",
       "0  The World Trade Organisation's chief economist...      Opening Bell   \n",
       "1  The US has issued a solar storm watch. So what...  Science & Health   \n",
       "2  With each inhalation and exhalation we have th...    Health Decoded   \n",
       "3  IEA head says world is adding as much renewabl...      Opening Bell   \n",
       "4  Uber CEO Dara Khosrowshahi says electric cars ...      Opening Bell   \n",
       "\n",
       "     Publication Date  \n",
       "0 2024-10-10 22:11:09  \n",
       "1 2024-10-10 15:11:09  \n",
       "2 2024-10-10 09:11:09  \n",
       "3 2024-10-09 22:11:09  \n",
       "4 2024-10-08 22:11:09  "
      ]
     },
     "execution_count": 75,
     "metadata": {},
     "output_type": "execute_result"
    }
   ],
   "source": [
    "df.head()"
   ]
  },
  {
   "cell_type": "code",
   "execution_count": 76,
   "id": "675f23df",
   "metadata": {},
   "outputs": [
    {
     "data": {
      "text/plain": [
       "(1047, 4)"
      ]
     },
     "execution_count": 76,
     "metadata": {},
     "output_type": "execute_result"
    }
   ],
   "source": [
    "df.shape"
   ]
  },
  {
   "cell_type": "code",
   "execution_count": 80,
   "id": "e0278902",
   "metadata": {},
   "outputs": [],
   "source": [
    "df.to_csv(\"cleaned_data.csv\")"
   ]
  },
  {
   "cell_type": "code",
   "execution_count": null,
   "id": "bb9dc099",
   "metadata": {},
   "outputs": [],
   "source": []
  }
 ],
 "metadata": {
  "kernelspec": {
   "display_name": "Python 3",
   "language": "python",
   "name": "python3"
  },
  "language_info": {
   "codemirror_mode": {
    "name": "ipython",
    "version": 3
   },
   "file_extension": ".py",
   "mimetype": "text/x-python",
   "name": "python",
   "nbconvert_exporter": "python",
   "pygments_lexer": "ipython3",
   "version": "3.12.2"
  }
 },
 "nbformat": 4,
 "nbformat_minor": 5
}
